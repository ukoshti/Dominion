{
 "cells": [
  {
   "cell_type": "code",
   "execution_count": null,
   "metadata": {},
   "outputs": [],
   "source": [
    "import random\n",
    "import pandas as pd\n",
    "import pickle"
   ]
  },
  {
   "cell_type": "code",
   "execution_count": null,
   "metadata": {},
   "outputs": [],
   "source": [
    "df = pd.read_csv(\"./Owned Cards.csv\")\n",
    "CARDS = df.to_dict(\"records\")\n",
    "# cardlist = df[\"Card Name\"].tolist()"
   ]
  },
  {
   "cell_type": "code",
   "execution_count": 1,
   "metadata": {},
   "outputs": [],
   "source": [
    "import random\n",
    "import pandas as pd\n",
    "import pickle\n",
    "\n",
    "class game:\n",
    "    def __init__(self):\n",
    "        self.cards = sorted(self.pick(), key = lambda x: (x[\"Set Name\"], x[\"Card Name\"]))\n",
    "        self.has_shelters = self._shelters(self.cards)\n",
    "        self.has_platcol = self._platcol(self.cards)\n",
    "        \n",
    "    def _shelters(self, cards):\n",
    "        return \"Dark Ages\" == [card[\"Set Name\"] for card in cards][random.randrange(0, len(cards))]\n",
    "        \n",
    "    def _platcol(self, cards):\n",
    "        return \"Prosperity\" == [card[\"Set Name\"] for card in cards][random.randrange(0, len(cards))]\n",
    "    \n",
    "    def __str__(self):\n",
    "        cards_print = \"\"\n",
    "        for card in self.cards:\n",
    "            cards_print = cards_print + f\"{card}\\n\"\n",
    "        return f\"{cards_print}\\nShelters: {self.has_shelters}\\nPlatinums and Colonies: {self.has_platcol}\"\n",
    "    \n",
    "    def pick(self, num_cards = 10):\n",
    "        available = self.load_pickle()\n",
    "        total_cards = len(available)\n",
    "        if total_cards < num_cards:\n",
    "            reload = self.reload_csv()\n",
    "            count = 1\n",
    "            for card in available:\n",
    "                indx = reload.index(card)\n",
    "                reload[indx], reload[len(reload)-count] = reload[len(reload)-count], reload[indx]\n",
    "                count = count + 1\n",
    "            available = self.rearrange(reload[:-total_cards], num_cards - total_cards) + reload[-total_cards:]\n",
    "        else:\n",
    "            available = self.rearrange(available, num_cards)\n",
    "        self.to_pickle(available[:-num_cards])\n",
    "        return available[-num_cards:]\n",
    "\n",
    "    def rearrange(self, cards, picks = 10):\n",
    "        total_cards = len(cards)\n",
    "        for i in range(picks):\n",
    "            rng = random.randrange(0, total_cards-i)\n",
    "            cards[rng], cards[total_cards-i-1] = cards[total_cards-i-1], cards[rng]\n",
    "        return cards\n",
    "\n",
    "    def load_pickle(self):\n",
    "        try:\n",
    "            with open('puppies.pkl', 'rb') as f:\n",
    "                return pickle.load(f)\n",
    "        except:\n",
    "            return self.reload_csv()\n",
    "\n",
    "    def reload_csv(self):\n",
    "        df = pd.read_csv(\"./Owned Cards.csv\")\n",
    "        return df.to_dict(\"records\")\n",
    "\n",
    "    def to_pickle(self, cards):\n",
    "        with open('puppies.pkl', 'wb') as f:\n",
    "            pickle.dump(cards, f)"
   ]
  },
  {
   "cell_type": "code",
   "execution_count": 2,
   "metadata": {},
   "outputs": [
    {
     "name": "stdout",
     "output_type": "stream",
     "text": [
      "{'Card Name': 'Bandit', 'Set Name': 'Base'}\n",
      "{'Card Name': 'Laboratory', 'Set Name': 'Base'}\n",
      "{'Card Name': 'Harvest', 'Set Name': 'Cornucopia'}\n",
      "{'Card Name': 'Jester', 'Set Name': 'Cornucopia'}\n",
      "{'Card Name': 'Knights', 'Set Name': 'Dark Ages'}\n",
      "{'Card Name': 'Taxman', 'Set Name': 'Guilds'}\n",
      "{'Card Name': 'Bishop', 'Set Name': 'Prosperity'}\n",
      "{'Card Name': 'Contraband', 'Set Name': 'Prosperity'}\n",
      "{'Card Name': 'Ghost Ship', 'Set Name': 'Seaside'}\n",
      "{'Card Name': 'Outpost', 'Set Name': 'Seaside'}\n",
      "\n",
      "Shelters: False\n",
      "Platinums and Colonies: False\n"
     ]
    }
   ],
   "source": [
    "print(game())"
   ]
  },
  {
   "cell_type": "code",
   "execution_count": null,
   "metadata": {},
   "outputs": [],
   "source": []
  }
 ],
 "metadata": {
  "kernelspec": {
   "display_name": "Python 3",
   "language": "python",
   "name": "python3"
  },
  "language_info": {
   "codemirror_mode": {
    "name": "ipython",
    "version": 3
   },
   "file_extension": ".py",
   "mimetype": "text/x-python",
   "name": "python",
   "nbconvert_exporter": "python",
   "pygments_lexer": "ipython3",
   "version": "3.7.6"
  }
 },
 "nbformat": 4,
 "nbformat_minor": 4
}

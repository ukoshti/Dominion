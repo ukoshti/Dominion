{
 "cells": [
  {
   "cell_type": "code",
   "execution_count": null,
   "metadata": {},
   "outputs": [],
   "source": [
    "import random\n",
    "import pandas as pd\n",
    "import pickle\n",
    "\n",
    "class Game:\n",
    "    def __init__(self):\n",
    "        self.allcards = Game.load_csv()\n",
    "        self.next_game()\n",
    "        \n",
    "    def _shelters(self, cards):\n",
    "        return \"Dark Ages\" == [card[\"Set Name\"] for card in cards][random.randrange(0, len(cards))]\n",
    "        \n",
    "    def _platcol(self, cards):\n",
    "        return \"Prosperity\" == [card[\"Set Name\"] for card in cards][random.randrange(0, len(cards))]\n",
    "    \n",
    "    def _card_to_str(self, card):\n",
    "        return f'{card[\"Set Name\"] + \":\" :<11} {card[\"Card Name\"]}'\n",
    "\n",
    "    def _deck_stats(self):\n",
    "        remaining_cards = len(Game.load_pickle())\n",
    "        total_cards = len(self.allcards)\n",
    "        return f'Remaining Cards: {remaining_cards}\\nTotal Cards: {total_cards}'\n",
    "\n",
    "    def __str__(self):\n",
    "        cards_print = \"\"\n",
    "        for card in self.cards:\n",
    "            cards_print = cards_print + f\"{self._card_to_str(card)}\\n\"\n",
    "        return f\"{cards_print}\\nShelters: {self.has_shelters}\\nPlatinums and Colonies: {self.has_platcol}\\n\\n{self._deck_stats()}\"\n",
    "    \n",
    "    def pick(self, num_cards = 10): \n",
    "        available = Game.load_pickle()\n",
    "        total_cards = len(available)\n",
    "        if total_cards < num_cards:\n",
    "            reload = self.allcards\n",
    "            count = 1\n",
    "            for card in available:\n",
    "                indx = reload.index(card)\n",
    "                reload[indx], reload[len(reload)-count] = reload[len(reload)-count], reload[indx]\n",
    "                count = count + 1\n",
    "            available = self.shuffle(reload[:-total_cards], num_cards - total_cards) + reload[-total_cards:]\n",
    "        else:\n",
    "            available = self.shuffle(available, num_cards)\n",
    "        Game.to_pickle(available[:-num_cards])\n",
    "        return available[-num_cards:]\n",
    "\n",
    "    @classmethod\n",
    "    def shuffle(self, cards, picks = 10):\n",
    "        total_cards = len(cards)\n",
    "        for i in range(picks):\n",
    "            rng = random.randrange(0, total_cards-i)\n",
    "            cards[rng], cards[total_cards-i-1] = cards[total_cards-i-1], cards[rng]\n",
    "        return cards\n",
    "\n",
    "    def next_game(self, num_cards = 10):\n",
    "        self.cards = sorted(self.pick(), key = lambda x: (x[\"Set Name\"], x[\"Card Name\"]))\n",
    "        self.has_shelters = self._shelters(self.cards)\n",
    "        self.has_platcol = self._platcol(self.cards)\n",
    "\n",
    "    @staticmethod\n",
    "    def load_pickle():\n",
    "        try:\n",
    "            with open('./data/puppies.pkl', 'rb') as f:\n",
    "                return pickle.load(f)\n",
    "        except:\n",
    "            return Game.load_csv()\n",
    "\n",
    "    @staticmethod\n",
    "    def load_csv():\n",
    "        df = pd.read_csv('./data/Owned Cards.csv')\n",
    "        return df.to_dict(\"records\")\n",
    "\n",
    "    @staticmethod\n",
    "    def to_pickle(cards):\n",
    "        with open('./data/puppies.pkl', 'wb') as f:\n",
    "            pickle.dump(cards, f)"
   ]
  },
  {
   "cell_type": "code",
   "execution_count": null,
   "metadata": {},
   "outputs": [],
   "source": [
    "def shuffle(cards, picks = 10):\n",
    "    total_cards = len(cards)\n",
    "    for i in range(picks):\n",
    "        rng = random.randrange(0, total_cards-i)\n",
    "        cards[rng], cards[total_cards-i-1] = cards[total_cards-i-1], cards[rng]\n",
    "    return cards"
   ]
  },
  {
   "cell_type": "code",
   "execution_count": null,
   "metadata": {
    "scrolled": true
   },
   "outputs": [],
   "source": [
    "num_cards = 10\n",
    "available = Game.load_pickle()\n",
    "total_cards = len(available)\n",
    "if total_cards < num_cards:\n",
    "    reload = Game.load_csv()\n",
    "    count = 1\n",
    "    for card in available:\n",
    "        indx = reload.index(card)\n",
    "        reload[indx], reload[len(reload)-count] = reload[len(reload)-count], reload[indx]\n",
    "        count = count + 1\n",
    "    available = shuffle(reload[:-total_cards], num_cards - total_cards) + reload[-total_cards:]\n",
    "else:\n",
    "    available = shuffle(available, num_cards)\n",
    "Game.to_pickle(available[:-num_cards])\n",
    "x = available[-num_cards:]\n"
   ]
  },
  {
   "cell_type": "code",
   "execution_count": null,
   "metadata": {},
   "outputs": [],
   "source": [
    "bane = None\n",
    "all_cards = Game.load_csv()\n",
    "all_kinda = all_cards[:]\n",
    "for card in x:\n",
    "    all_kinda.remove(card)\n",
    "for card in x:\n",
    "    if card['Card Name'] == 'Young Witch':\n",
    "        twothree = [c for c in all_kinda if c['Cost'] == 2 or c['Cost'] == 3]\n",
    "        bane = twothree[random.randrange(0, len(twothree))]\n",
    "print(x)\n",
    "print(bane)"
   ]
  },
  {
   "cell_type": "code",
   "execution_count": null,
   "metadata": {},
   "outputs": [],
   "source": [
    "len(all_cards)"
   ]
  },
  {
   "cell_type": "code",
   "execution_count": null,
   "metadata": {},
   "outputs": [],
   "source": [
    "print(bane)"
   ]
  },
  {
   "cell_type": "code",
   "execution_count": null,
   "metadata": {},
   "outputs": [],
   "source": [
    "all_cards = Game.load_csv()\n",
    "twothree = [c for c in all_cards if c['Cost'] == 2 or c['Cost'] == 3]"
   ]
  },
  {
   "cell_type": "code",
   "execution_count": null,
   "metadata": {},
   "outputs": [],
   "source": [
    "for i in range(1,9):\n",
    "    print(len([c for c in all_cards if c['Cost'] == i]))"
   ]
  },
  {
   "cell_type": "code",
   "execution_count": null,
   "metadata": {},
   "outputs": [],
   "source": []
  }
 ],
 "metadata": {
  "kernelspec": {
   "display_name": "Python 3",
   "language": "python",
   "name": "python3"
  },
  "language_info": {
   "codemirror_mode": {
    "name": "ipython",
    "version": 3
   },
   "file_extension": ".py",
   "mimetype": "text/x-python",
   "name": "python",
   "nbconvert_exporter": "python",
   "pygments_lexer": "ipython3",
   "version": "3.7.6"
  }
 },
 "nbformat": 4,
 "nbformat_minor": 4
}

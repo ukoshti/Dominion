{
 "cells": [
  {
   "cell_type": "code",
   "execution_count": 1,
   "metadata": {},
   "outputs": [],
   "source": [
    "import random\n",
    "import pandas as pd\n",
    "import pickle\n",
    "\n",
    "class Game:\n",
    "    def __init__(self):\n",
    "        self.allcards = Game.load_csv()\n",
    "        self.deck = Game.load_deck()\n",
    "        self.nextdeck = []\n",
    "        self.next_game()\n",
    "        \n",
    "    def _shelters(self, cards):\n",
    "        return \"Dark Ages\" == [card[\"Set Name\"] for card in cards][random.randrange(0, len(cards))]\n",
    "        \n",
    "    def _platcol(self, cards):\n",
    "        return \"Prosperity\" == [card[\"Set Name\"] for card in cards][random.randrange(0, len(cards))]\n",
    "    \n",
    "    def _card_to_str(self, card):\n",
    "        return f'{card[\"Set Name\"] + \":\" :<11} {card[\"Card Name\"]}'\n",
    "\n",
    "    def _deck_stats(self):\n",
    "        remaining_cards = len(Game.load_deck())\n",
    "        total_cards = len(self.allcards)\n",
    "        return f'Remaining Cards: {remaining_cards}\\nTotal Cards: {total_cards}'\n",
    "\n",
    "    def __str__(self):\n",
    "        cards_print = \"\"\n",
    "        for card in self.cards:\n",
    "            cards_print = cards_print + f\"{self._card_to_str(card)}\\n\"\n",
    " \n",
    "        if self.bane is not None:\n",
    "            cards_print = cards_print + f\"{self._card_to_str(self.bane)} (Bane)\\n\"\n",
    "\n",
    "        return f\"{cards_print}\\nShelters: {self.has_shelters}\\nPlatinums and Colonies: {self.has_platcol}\\n\\n{self._deck_stats()}\"\n",
    "    \n",
    "    def pick(self, num_cards = 10): \n",
    "        available = Game.load_pickle()\n",
    "        total_cards = len(available)\n",
    "        if total_cards < num_cards:\n",
    "            reload = self.allcards\n",
    "            count = 1\n",
    "            for card in available:\n",
    "                indx = reload.index(card)\n",
    "                reload[indx], reload[len(reload)-count] = reload[len(reload)-count], reload[indx]\n",
    "                count = count + 1\n",
    "            available = self.shuffle(reload[:-total_cards], num_cards - total_cards) + reload[-total_cards:]\n",
    "        else:\n",
    "            available = self.shuffle(available, num_cards)\n",
    "        Game.to_pickle(available[:-num_cards])\n",
    "        return available[-num_cards:]\n",
    "\n",
    "    def _bane(self, cards):\n",
    "        bane = None\n",
    "        allcards = self.allcards[:]\n",
    "        for card in cards:\n",
    "            allcards.remove(card)\n",
    "        for card in cards:\n",
    "            if card['Card Name'] == 'Young Witch':\n",
    "                twothree = [c for c in allcards if c['Cost'] == 2 or c['Cost'] == 3]\n",
    "                bane = twothree[random.randrange(0, len(twothree))]\n",
    "        return bane\n",
    "\n",
    "    def shuffle(self, cards, picks = 10):\n",
    "        total_cards = len(cards)\n",
    "        for i in range(picks):\n",
    "            rng = random.randrange(0, total_cards-i)\n",
    "            cards[rng], cards[total_cards-i-1] = cards[total_cards-i-1], cards[rng]\n",
    "        return cards\n",
    "\n",
    "    def next_game(self, num_cards = 10):\n",
    "        self.cards = sorted(self.pick(), key = lambda x: (x[\"Set Name\"], x[\"Card Name\"]))\n",
    "        self.bane = self._bane(self.cards)\n",
    "        self.has_shelters = self._shelters(self.cards)\n",
    "        self.has_platcol = self._platcol(self.cards)\n",
    "\n",
    "    @staticmethod\n",
    "    def load_pickle():\n",
    "        try:\n",
    "            with open('./data/puppies.pkl', 'rb') as f:\n",
    "                return pickle.load(f)\n",
    "        except:\n",
    "            return Game.load_csv()\n",
    "\n",
    "    @staticmethod\n",
    "    def load_csv():\n",
    "        df = pd.read_csv('./data/Owned Cards.csv')\n",
    "        return df.to_dict(\"records\")\n",
    "\n",
    "    @staticmethod\n",
    "    def to_pickle(cards):\n",
    "        with open('./data/puppies.pkl', 'wb') as f:\n",
    "            pickle.dump(cards, f)"
   ]
  },
  {
   "cell_type": "code",
   "execution_count": 2,
   "metadata": {},
   "outputs": [],
   "source": [
    "def shuffle(cards, picks = 10):\n",
    "    total_cards = len(cards)\n",
    "    for i in range(picks):\n",
    "        rng = random.randrange(0, total_cards-i)\n",
    "        cards[rng], cards[total_cards-i-1] = cards[total_cards-i-1], cards[rng]\n",
    "    return cards"
   ]
  },
  {
   "cell_type": "code",
   "execution_count": 3,
   "metadata": {
    "scrolled": true
   },
   "outputs": [],
   "source": [
    "num_cards = 10\n",
    "available = Game.load_pickle()\n",
    "total_cards = len(available)\n",
    "if total_cards < num_cards:\n",
    "    reload = Game.load_csv()\n",
    "    count = 1\n",
    "    for card in available:\n",
    "        indx = reload.index(card)\n",
    "        reload[indx], reload[len(reload)-count] = reload[len(reload)-count], reload[indx]\n",
    "        count = count + 1\n",
    "    available = shuffle(reload[:-total_cards], num_cards - total_cards) + reload[-total_cards:]\n",
    "else:\n",
    "    available = shuffle(available, num_cards)\n",
    "Game.to_pickle(available[:-num_cards])\n",
    "x = available[-num_cards:]\n"
   ]
  },
  {
   "cell_type": "code",
   "execution_count": 4,
   "metadata": {
    "scrolled": true
   },
   "outputs": [
    {
     "data": {
      "text/plain": [
       "[{'Card Name': 'Bandit', 'Set Name': 'Base', 'Cost': 5},\n",
       " {'Card Name': 'Wandering Minstrel', 'Set Name': 'Dark Ages', 'Cost': 4},\n",
       " {'Card Name': 'Harem', 'Set Name': 'Intrigue', 'Cost': 6},\n",
       " {'Card Name': 'Squire', 'Set Name': 'Dark Ages', 'Cost': 2},\n",
       " {'Card Name': 'Venture', 'Set Name': 'Prosperity', 'Cost': 5},\n",
       " {'Card Name': 'Butcher', 'Set Name': 'Guilds', 'Cost': 5},\n",
       " {'Card Name': 'Masterpiece', 'Set Name': 'Guilds', 'Cost': 3},\n",
       " {'Card Name': 'Conspirator', 'Set Name': 'Intrigue', 'Cost': 4},\n",
       " {'Card Name': 'Baron', 'Set Name': 'Intrigue', 'Cost': 4},\n",
       " {'Card Name': 'Farming Village', 'Set Name': 'Cornucopia', 'Cost': 4}]"
      ]
     },
     "execution_count": 4,
     "metadata": {},
     "output_type": "execute_result"
    }
   ],
   "source": [
    "x"
   ]
  },
  {
   "cell_type": "code",
   "execution_count": null,
   "metadata": {},
   "outputs": [],
   "source": [
    "bane = None\n",
    "all_cards = Game.load_csv()\n",
    "all_kinda = all_cards[:]\n",
    "for card in x:\n",
    "    all_kinda.remove(card)\n",
    "for card in x:\n",
    "    if card['Card Name'] == 'Young Witch':\n",
    "        twothree = [c for c in all_kinda if c['Cost'] == 2 or c['Cost'] == 3]\n",
    "        bane = twothree[random.randrange(0, len(twothree))]\n",
    "print(x)\n",
    "print(bane)"
   ]
  },
  {
   "cell_type": "code",
   "execution_count": null,
   "metadata": {},
   "outputs": [],
   "source": [
    "len(all_cards)"
   ]
  },
  {
   "cell_type": "code",
   "execution_count": null,
   "metadata": {},
   "outputs": [],
   "source": [
    "print(bane)"
   ]
  },
  {
   "cell_type": "code",
   "execution_count": null,
   "metadata": {},
   "outputs": [],
   "source": [
    "all_cards = Game.load_csv()\n",
    "twothree = [c for c in all_cards if c['Cost'] == 2 or c['Cost'] == 3]"
   ]
  },
  {
   "cell_type": "code",
   "execution_count": null,
   "metadata": {},
   "outputs": [],
   "source": [
    "for i in range(1,9):\n",
    "    print(len([c for c in all_cards if c['Cost'] == i]))"
   ]
  },
  {
   "cell_type": "code",
   "execution_count": 20,
   "metadata": {},
   "outputs": [],
   "source": [
    "s = [1,2]"
   ]
  },
  {
   "cell_type": "code",
   "execution_count": 23,
   "metadata": {},
   "outputs": [
    {
     "ename": "TypeError",
     "evalue": "append() takes exactly one argument (0 given)",
     "output_type": "error",
     "traceback": [
      "\u001b[1;31m---------------------------------------------------------------------------\u001b[0m",
      "\u001b[1;31mTypeError\u001b[0m                                 Traceback (most recent call last)",
      "\u001b[1;32m<ipython-input-23-d4f3d6805e7e>\u001b[0m in \u001b[0;36m<module>\u001b[1;34m\u001b[0m\n\u001b[1;32m----> 1\u001b[1;33m \u001b[0ms\u001b[0m\u001b[1;33m.\u001b[0m\u001b[0mappend\u001b[0m\u001b[1;33m(\u001b[0m\u001b[1;33m)\u001b[0m\u001b[1;33m\u001b[0m\u001b[1;33m\u001b[0m\u001b[0m\n\u001b[0m",
      "\u001b[1;31mTypeError\u001b[0m: append() takes exactly one argument (0 given)"
     ]
    }
   ],
   "source": [
    "s.append()"
   ]
  },
  {
   "cell_type": "code",
   "execution_count": 24,
   "metadata": {},
   "outputs": [
    {
     "data": {
      "text/plain": [
       "True"
      ]
     },
     "execution_count": 24,
     "metadata": {},
     "output_type": "execute_result"
    }
   ],
   "source": [
    "not None"
   ]
  },
  {
   "cell_type": "code",
   "execution_count": 25,
   "metadata": {},
   "outputs": [],
   "source": [
    "None"
   ]
  },
  {
   "cell_type": "code",
   "execution_count": 12,
   "metadata": {},
   "outputs": [],
   "source": [
    "import pandas as pd"
   ]
  },
  {
   "cell_type": "code",
   "execution_count": 23,
   "metadata": {},
   "outputs": [],
   "source": [
    "df = pd.read_csv('./data/Owned Cards.csv')"
   ]
  },
  {
   "cell_type": "code",
   "execution_count": 24,
   "metadata": {},
   "outputs": [],
   "source": [
    "data = df.to_dict('records')"
   ]
  },
  {
   "cell_type": "code",
   "execution_count": 25,
   "metadata": {},
   "outputs": [
    {
     "data": {
      "text/plain": [
       "'[{\"name\": \"Cellar\", \"set\": \"Base\", \"cost\": 2, \"type\": \"action\"}, {\"name\": \"Chapel\", \"set\": \"Base\", \"cost\": 2, \"type\": \"action\"}, {\"name\": \"Moat\", \"set\": \"Base\", \"cost\": 2, \"type\": \"reaction\"}, {\"name\": \"Village\", \"set\": \"Base\", \"cost\": 3, \"type\": \"action\"}, {\"name\": \"Workshop\", \"set\": \"Base\", \"cost\": 3, \"type\": \"action\"}, {\"name\": \"Bureaucrat\", \"set\": \"Base\", \"cost\": 4, \"type\": \"action\"}, {\"name\": \"Gardens\", \"set\": \"Base\", \"cost\": 4, \"type\": \"victory\"}, {\"name\": \"Militia\", \"set\": \"Base\", \"cost\": 4, \"type\": \"action\"}, {\"name\": \"Moneylender\", \"set\": \"Base\", \"cost\": 4, \"type\": \"action\"}, {\"name\": \"Remodel\", \"set\": \"Base\", \"cost\": 4, \"type\": \"action\"}, {\"name\": \"Smithy\", \"set\": \"Base\", \"cost\": 4, \"type\": \"action\"}, {\"name\": \"Throne Room\", \"set\": \"Base\", \"cost\": 4, \"type\": \"action\"}, {\"name\": \"Council Room\", \"set\": \"Base\", \"cost\": 5, \"type\": \"action\"}, {\"name\": \"Festival\", \"set\": \"Base\", \"cost\": 5, \"type\": \"action\"}, {\"name\": \"Laboratory\", \"set\": \"Base\", \"cost\": 5, \"type\": \"action\"}, {\"name\": \"Library\", \"set\": \"Base\", \"cost\": 5, \"type\": \"action\"}, {\"name\": \"Market\", \"set\": \"Base\", \"cost\": 5, \"type\": \"action\"}, {\"name\": \"Mine\", \"set\": \"Base\", \"cost\": 5, \"type\": \"action\"}, {\"name\": \"Witch\", \"set\": \"Base\", \"cost\": 5, \"type\": \"action\"}, {\"name\": \"Harbinger\", \"set\": \"Base\", \"cost\": 3, \"type\": \"action\"}, {\"name\": \"Merchant\", \"set\": \"Base\", \"cost\": 3, \"type\": \"action\"}, {\"name\": \"Vassal\", \"set\": \"Base\", \"cost\": 3, \"type\": \"action\"}, {\"name\": \"Poacher\", \"set\": \"Base\", \"cost\": 4, \"type\": \"action\"}, {\"name\": \"Bandit\", \"set\": \"Base\", \"cost\": 5, \"type\": \"action\"}, {\"name\": \"Sentry\", \"set\": \"Base\", \"cost\": 5, \"type\": \"action\"}, {\"name\": \"Artisan\", \"set\": \"Base\", \"cost\": 6, \"type\": \"action\"}, {\"name\": \"Hamlet\", \"set\": \"Cornucopia\", \"cost\": 2, \"type\": \"action\"}, {\"name\": \"Fortune Teller\", \"set\": \"Cornucopia\", \"cost\": 3, \"type\": \"action\"}, {\"name\": \"Menagerie\", \"set\": \"Cornucopia\", \"cost\": 3, \"type\": \"action\"}, {\"name\": \"Farming Village\", \"set\": \"Cornucopia\", \"cost\": 4, \"type\": \"action\"}, {\"name\": \"Horse Traders\", \"set\": \"Cornucopia\", \"cost\": 4, \"type\": \"reaction\"}, {\"name\": \"Remake\", \"set\": \"Cornucopia\", \"cost\": 4, \"type\": \"action\"}, {\"name\": \"Tournament\", \"set\": \"Cornucopia\", \"cost\": 4, \"type\": \"action\"}, {\"name\": \"Young Witch\", \"set\": \"Cornucopia\", \"cost\": 4, \"type\": \"action\"}, {\"name\": \"Harvest\", \"set\": \"Cornucopia\", \"cost\": 5, \"type\": \"action\"}, {\"name\": \"Horn of Plenty\", \"set\": \"Cornucopia\", \"cost\": 5, \"type\": \"treasure\"}, {\"name\": \"Hunting Party\", \"set\": \"Cornucopia\", \"cost\": 5, \"type\": \"action\"}, {\"name\": \"Jester\", \"set\": \"Cornucopia\", \"cost\": 5, \"type\": \"action\"}, {\"name\": \"Fairgrounds\", \"set\": \"Cornucopia\", \"cost\": 6, \"type\": \"victory\"}, {\"name\": \"Poor House\", \"set\": \"Dark Ages\", \"cost\": 1, \"type\": \"action\"}, {\"name\": \"Beggar\", \"set\": \"Dark Ages\", \"cost\": 2, \"type\": \"reaction\"}, {\"name\": \"Squire\", \"set\": \"Dark Ages\", \"cost\": 2, \"type\": \"action\"}, {\"name\": \"Vagrant\", \"set\": \"Dark Ages\", \"cost\": 2, \"type\": \"action\"}, {\"name\": \"Forager\", \"set\": \"Dark Ages\", \"cost\": 2, \"type\": \"action\"}, {\"name\": \"Hermit\", \"set\": \"Dark Ages\", \"cost\": 3, \"type\": \"action\"}, {\"name\": \"Market Square\", \"set\": \"Dark Ages\", \"cost\": 3, \"type\": \"reaction\"}, {\"name\": \"Sage\", \"set\": \"Dark Ages\", \"cost\": 3, \"type\": \"action\"}, {\"name\": \"Storeroom\", \"set\": \"Dark Ages\", \"cost\": 3, \"type\": \"action\"}, {\"name\": \"Urchin\", \"set\": \"Dark Ages\", \"cost\": 3, \"type\": \"action\"}, {\"name\": \"Armory\", \"set\": \"Dark Ages\", \"cost\": 4, \"type\": \"action\"}, {\"name\": \"Death Cart\", \"set\": \"Dark Ages\", \"cost\": 4, \"type\": \"action\"}, {\"name\": \"Feodum\", \"set\": \"Dark Ages\", \"cost\": 4, \"type\": \"victory\"}, {\"name\": \"Fortress\", \"set\": \"Dark Ages\", \"cost\": 4, \"type\": \"action\"}, {\"name\": \"Ironmonger\", \"set\": \"Dark Ages\", \"cost\": 4, \"type\": \"action\"}, {\"name\": \"Marauder\", \"set\": \"Dark Ages\", \"cost\": 4, \"type\": \"action\"}, {\"name\": \"Procession\", \"set\": \"Dark Ages\", \"cost\": 4, \"type\": \"action\"}, {\"name\": \"Rats\", \"set\": \"Dark Ages\", \"cost\": 4, \"type\": \"action\"}, {\"name\": \"Scavenger\", \"set\": \"Dark Ages\", \"cost\": 4, \"type\": \"action\"}, {\"name\": \"Wandering Minstrel\", \"set\": \"Dark Ages\", \"cost\": 4, \"type\": \"action\"}, {\"name\": \"Band of Misfits\", \"set\": \"Dark Ages\", \"cost\": 5, \"type\": \"action\"}, {\"name\": \"Bandit Camp\", \"set\": \"Dark Ages\", \"cost\": 5, \"type\": \"action\"}, {\"name\": \"Catacombs\", \"set\": \"Dark Ages\", \"cost\": 5, \"type\": \"action\"}, {\"name\": \"Count\", \"set\": \"Dark Ages\", \"cost\": 5, \"type\": \"action\"}, {\"name\": \"Counterfeit\", \"set\": \"Dark Ages\", \"cost\": 5, \"type\": \"action\"}, {\"name\": \"Cultist\", \"set\": \"Dark Ages\", \"cost\": 5, \"type\": \"action\"}, {\"name\": \"Graverobber\", \"set\": \"Dark Ages\", \"cost\": 5, \"type\": \"action\"}, {\"name\": \"Junk Dealer\", \"set\": \"Dark Ages\", \"cost\": 5, \"type\": \"action\"}, {\"name\": \"Knights\", \"set\": \"Dark Ages\", \"cost\": 5, \"type\": \"action\"}, {\"name\": \"Mystic\", \"set\": \"Dark Ages\", \"cost\": 5, \"type\": \"action\"}, {\"name\": \"Pillage\", \"set\": \"Dark Ages\", \"cost\": 5, \"type\": \"action\"}, {\"name\": \"Rebuild\", \"set\": \"Dark Ages\", \"cost\": 5, \"type\": \"action\"}, {\"name\": \"Rogue\", \"set\": \"Dark Ages\", \"cost\": 5, \"type\": \"action\"}, {\"name\": \"Altar\", \"set\": \"Dark Ages\", \"cost\": 6, \"type\": \"action\"}, {\"name\": \"Hunting Grounds\", \"set\": \"Dark Ages\", \"cost\": 6, \"type\": \"action\"}, {\"name\": \"Candlestick Maker\", \"set\": \"Guilds\", \"cost\": 2, \"type\": \"action\"}, {\"name\": \"Stonemason\", \"set\": \"Guilds\", \"cost\": 2, \"type\": \"action\"}, {\"name\": \"Doctor\", \"set\": \"Guilds\", \"cost\": 3, \"type\": \"action\"}, {\"name\": \"Masterpiece\", \"set\": \"Guilds\", \"cost\": 3, \"type\": \"treasure\"}, {\"name\": \"Advisor\", \"set\": \"Guilds\", \"cost\": 4, \"type\": \"action\"}, {\"name\": \"Herald\", \"set\": \"Guilds\", \"cost\": 4, \"type\": \"action\"}, {\"name\": \"Plaza\", \"set\": \"Guilds\", \"cost\": 4, \"type\": \"action\"}, {\"name\": \"Taxman\", \"set\": \"Guilds\", \"cost\": 4, \"type\": \"action\"}, {\"name\": \"Baker\", \"set\": \"Guilds\", \"cost\": 5, \"type\": \"action\"}, {\"name\": \"Butcher\", \"set\": \"Guilds\", \"cost\": 5, \"type\": \"action\"}, {\"name\": \"Journeyman\", \"set\": \"Guilds\", \"cost\": 5, \"type\": \"action\"}, {\"name\": \"Merchant Guild\", \"set\": \"Guilds\", \"cost\": 5, \"type\": \"action\"}, {\"name\": \"Soothsayer\", \"set\": \"Guilds\", \"cost\": 5, \"type\": \"action\"}, {\"name\": \"Courtyard\", \"set\": \"Intrigue\", \"cost\": 2, \"type\": \"action\"}, {\"name\": \"Pawn\", \"set\": \"Intrigue\", \"cost\": 2, \"type\": \"action\"}, {\"name\": \"Masquerade\", \"set\": \"Intrigue\", \"cost\": 3, \"type\": \"action\"}, {\"name\": \"Shanty Town\", \"set\": \"Intrigue\", \"cost\": 3, \"type\": \"action\"}, {\"name\": \"Steward\", \"set\": \"Intrigue\", \"cost\": 3, \"type\": \"action\"}, {\"name\": \"Swindler\", \"set\": \"Intrigue\", \"cost\": 3, \"type\": \"action\"}, {\"name\": \"Wishing Well\", \"set\": \"Intrigue\", \"cost\": 3, \"type\": \"action\"}, {\"name\": \"Baron\", \"set\": \"Intrigue\", \"cost\": 4, \"type\": \"action\"}, {\"name\": \"Bridge\", \"set\": \"Intrigue\", \"cost\": 4, \"type\": \"action\"}, {\"name\": \"Conspirator\", \"set\": \"Intrigue\", \"cost\": 4, \"type\": \"action\"}, {\"name\": \"Ironworks\", \"set\": \"Intrigue\", \"cost\": 4, \"type\": \"action\"}, {\"name\": \"Mining Village\", \"set\": \"Intrigue\", \"cost\": 4, \"type\": \"action\"}, {\"name\": \"Duke\", \"set\": \"Intrigue\", \"cost\": 5, \"type\": \"victory\"}, {\"name\": \"Minion\", \"set\": \"Intrigue\", \"cost\": 5, \"type\": \"action\"}, {\"name\": \"Torturer\", \"set\": \"Intrigue\", \"cost\": 5, \"type\": \"action\"}, {\"name\": \"Trading Post\", \"set\": \"Intrigue\", \"cost\": 5, \"type\": \"action\"}, {\"name\": \"Upgrade\", \"set\": \"Intrigue\", \"cost\": 5, \"type\": \"action\"}, {\"name\": \"Harem\", \"set\": \"Intrigue\", \"cost\": 6, \"type\": \"victory\"}, {\"name\": \"Nobles\", \"set\": \"Intrigue\", \"cost\": 6, \"type\": \"victory\"}, {\"name\": \"Lurker\", \"set\": \"Intrigue\", \"cost\": 2, \"type\": \"action\"}, {\"name\": \"Diplomat\", \"set\": \"Intrigue\", \"cost\": 3, \"type\": \"reaction\"}, {\"name\": \"Mill\", \"set\": \"Intrigue\", \"cost\": 4, \"type\": \"victory\"}, {\"name\": \"Secret Passage\", \"set\": \"Intrigue\", \"cost\": 4, \"type\": \"action\"}, {\"name\": \"Courtier\", \"set\": \"Intrigue\", \"cost\": 5, \"type\": \"action\"}, {\"name\": \"Patrol\", \"set\": \"Intrigue\", \"cost\": 5, \"type\": \"action\"}, {\"name\": \"Replace\", \"set\": \"Intrigue\", \"cost\": 5, \"type\": \"action\"}, {\"name\": \"Loan\", \"set\": \"Prosperity\", \"cost\": 3, \"type\": \"treasure\"}, {\"name\": \"Trade Route\", \"set\": \"Prosperity\", \"cost\": 3, \"type\": \"action\"}, {\"name\": \"Watchtower\", \"set\": \"Prosperity\", \"cost\": 3, \"type\": \"action\"}, {\"name\": \"Bishop\", \"set\": \"Prosperity\", \"cost\": 4, \"type\": \"action\"}, {\"name\": \"Monument\", \"set\": \"Prosperity\", \"cost\": 4, \"type\": \"action\"}, {\"name\": \"Quarry\", \"set\": \"Prosperity\", \"cost\": 4, \"type\": \"treasure\"}, {\"name\": \"Talisman\", \"set\": \"Prosperity\", \"cost\": 4, \"type\": \"treasure\"}, {\"name\": \"Worker\\'s Village\", \"set\": \"Prosperity\", \"cost\": 4, \"type\": \"action\"}, {\"name\": \"City\", \"set\": \"Prosperity\", \"cost\": 5, \"type\": \"action\"}, {\"name\": \"Contraband\", \"set\": \"Prosperity\", \"cost\": 5, \"type\": \"treasure\"}, {\"name\": \"Counting House\", \"set\": \"Prosperity\", \"cost\": 5, \"type\": \"action\"}, {\"name\": \"Mint\", \"set\": \"Prosperity\", \"cost\": 5, \"type\": \"action\"}, {\"name\": \"Mountebank\", \"set\": \"Prosperity\", \"cost\": 5, \"type\": \"action\"}, {\"name\": \"Rabble\", \"set\": \"Prosperity\", \"cost\": 5, \"type\": \"action\"}, {\"name\": \"Royal Seal\", \"set\": \"Prosperity\", \"cost\": 5, \"type\": \"treasure\"}, {\"name\": \"Vault\", \"set\": \"Prosperity\", \"cost\": 5, \"type\": \"action\"}, {\"name\": \"Venture\", \"set\": \"Prosperity\", \"cost\": 5, \"type\": \"treasure\"}, {\"name\": \"Goons\", \"set\": \"Prosperity\", \"cost\": 6, \"type\": \"action\"}, {\"name\": \"Grand Market\", \"set\": \"Prosperity\", \"cost\": 6, \"type\": \"action\"}, {\"name\": \"Hoard\", \"set\": \"Prosperity\", \"cost\": 7, \"type\": \"treasure\"}, {\"name\": \"Bank\", \"set\": \"Prosperity\", \"cost\": 7, \"type\": \"treasure\"}, {\"name\": \"Expand\", \"set\": \"Prosperity\", \"cost\": 7, \"type\": \"action\"}, {\"name\": \"Forge\", \"set\": \"Prosperity\", \"cost\": 7, \"type\": \"action\"}, {\"name\": \"King\\'s Court\", \"set\": \"Prosperity\", \"cost\": 7, \"type\": \"action\"}, {\"name\": \"Peddler\", \"set\": \"Prosperity\", \"cost\": 8, \"type\": \"action\"}, {\"name\": \"Embargo\", \"set\": \"Seaside\", \"cost\": 2, \"type\": \"action\"}, {\"name\": \"Haven\", \"set\": \"Seaside\", \"cost\": 2, \"type\": \"duration\"}, {\"name\": \"Lighthouse\", \"set\": \"Seaside\", \"cost\": 2, \"type\": \"duration\"}, {\"name\": \"Native Village\", \"set\": \"Seaside\", \"cost\": 2, \"type\": \"action\"}, {\"name\": \"Pearl Diver\", \"set\": \"Seaside\", \"cost\": 2, \"type\": \"action\"}, {\"name\": \"Ambassador\", \"set\": \"Seaside\", \"cost\": 3, \"type\": \"action\"}, {\"name\": \"Fishing Village\", \"set\": \"Seaside\", \"cost\": 3, \"type\": \"duration\"}, {\"name\": \"Lookout\", \"set\": \"Seaside\", \"cost\": 3, \"type\": \"action\"}, {\"name\": \"Smugglers\", \"set\": \"Seaside\", \"cost\": 3, \"type\": \"action\"}, {\"name\": \"Warehouse\", \"set\": \"Seaside\", \"cost\": 3, \"type\": \"action\"}, {\"name\": \"Caravan\", \"set\": \"Seaside\", \"cost\": 4, \"type\": \"duration\"}, {\"name\": \"Cutpurse\", \"set\": \"Seaside\", \"cost\": 4, \"type\": \"action\"}, {\"name\": \"Island\", \"set\": \"Seaside\", \"cost\": 4, \"type\": \"action\"}, {\"name\": \"Navigator\", \"set\": \"Seaside\", \"cost\": 4, \"type\": \"action\"}, {\"name\": \"Pirate Ship\", \"set\": \"Seaside\", \"cost\": 4, \"type\": \"action\"}, {\"name\": \"Salvager\", \"set\": \"Seaside\", \"cost\": 4, \"type\": \"action\"}, {\"name\": \"Sea Hag\", \"set\": \"Seaside\", \"cost\": 4, \"type\": \"action\"}, {\"name\": \"Treasure Map\", \"set\": \"Seaside\", \"cost\": 4, \"type\": \"action\"}, {\"name\": \"Bazaar\", \"set\": \"Seaside\", \"cost\": 5, \"type\": \"action\"}, {\"name\": \"Explorer\", \"set\": \"Seaside\", \"cost\": 5, \"type\": \"action\"}, {\"name\": \"Ghost Ship\", \"set\": \"Seaside\", \"cost\": 5, \"type\": \"action\"}, {\"name\": \"Merchant Ship\", \"set\": \"Seaside\", \"cost\": 5, \"type\": \"action\"}, {\"name\": \"Outpost\", \"set\": \"Seaside\", \"cost\": 5, \"type\": \"duration\"}, {\"name\": \"Tactician\", \"set\": \"Seaside\", \"cost\": 5, \"type\": \"duration\"}, {\"name\": \"Treasury\", \"set\": \"Seaside\", \"cost\": 5, \"type\": \"action\"}, {\"name\": \"Wharf\", \"set\": \"Seaside\", \"cost\": 5, \"type\": \"duration\"}]'"
      ]
     },
     "execution_count": 25,
     "metadata": {},
     "output_type": "execute_result"
    }
   ],
   "source": [
    "import json\n",
    "json.dumps(data).replace(\"\\''\", \"''\")"
   ]
  },
  {
   "cell_type": "code",
   "execution_count": null,
   "metadata": {},
   "outputs": [],
   "source": []
  }
 ],
 "metadata": {
  "kernelspec": {
   "display_name": "Python 3",
   "language": "python",
   "name": "python3"
  },
  "language_info": {
   "codemirror_mode": {
    "name": "ipython",
    "version": 3
   },
   "file_extension": ".py",
   "mimetype": "text/x-python",
   "name": "python",
   "nbconvert_exporter": "python",
   "pygments_lexer": "ipython3",
   "version": "3.7.5"
  }
 },
 "nbformat": 4,
 "nbformat_minor": 4
}
